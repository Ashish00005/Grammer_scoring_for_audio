{
 "cells": [
  {
   "cell_type": "markdown",
   "id": "6ed8103b",
   "metadata": {},
   "source": [
    "# Audio Grammar Scoring Model\n",
    "\n",
    "## Overview\n",
    "In this project, we build a model that assigns a continuous score from 0 to 5 to audio recordings based on their grammatical quality. Our evaluation metric is the Pearson correlation coefficient between our predictions and the provided labels.\n",
    "\n",
    "## Dataset Details\n",
    "- **Audio Files:** The dataset includes training audios located in `audios_train/` and testing audios in `audios_test/`.\n",
    "- **CSV Files:**\n",
    "    - `train.csv`: Contains filenames and corresponding grammar scores.\n",
    "    - `test.csv`: Provides filenames for which predictions are needed.\n",
    "    - `sample_submission.csv`: Example file illustrating the required submission format."
   ]
  },
  {
   "cell_type": "code",
   "execution_count": 4,
   "id": "00dcd277",
   "metadata": {},
   "outputs": [],
   "source": [
    "import os\n",
    "import numpy as np\n",
    "import pandas as pd\n",
    "import matplotlib.pyplot as plt\n",
    "import librosa\n",
    "import librosa.display\n",
    "import seaborn as sns\n",
    "\n",
    "from sklearn.model_selection import train_test_split, cross_val_score\n",
    "from sklearn.preprocessing import StandardScaler\n",
    "from sklearn.linear_model import LinearRegression\n",
    "from sklearn.metrics import mean_absolute_error\n",
    "from scipy.stats import pearsonr\n",
    "\n",
    "np.random.seed(42)\n"
   ]
  },
  {
   "cell_type": "markdown",
   "id": "84dfa080",
   "metadata": {},
   "source": [
    "## Data Loading and Preprocessing\n",
    "\n",
    "- CSV files were imported using pandas to understand the structure and verify labels.\n",
    "- Audio files were processed using `librosa` to load the raw signals.\n",
    "- Initial visualizations included histograms of grammar scores and plots of audio waveforms to examine signal characteristics."
   ]
  },
  {
   "cell_type": "code",
   "execution_count": 5,
   "id": "bc56909f",
   "metadata": {},
   "outputs": [
    {
     "name": "stdout",
     "output_type": "stream",
     "text": [
      "Train DataFrame Shape: (444, 2)\n",
      "Test DataFrame Shape: (195, 1)\n",
      "         filename  label\n",
      "0  audio_1261.wav    1.0\n",
      "1   audio_942.wav    1.5\n",
      "2  audio_1110.wav    1.5\n",
      "3  audio_1024.wav    1.5\n",
      "4   audio_538.wav    2.0\n"
     ]
    }
   ],
   "source": [
    "train_csv_path = ( \"train.csv\")\n",
    "test_csv_path = (\"test.csv\")\n",
    "submission_csv_path =(\"sample_submission.csv\")\n",
    "\n",
    "train_df = pd.read_csv(train_csv_path)\n",
    "test_df = pd.read_csv(test_csv_path)\n",
    "\n",
    "print(\"Train DataFrame Shape:\", train_df.shape)\n",
    "print(\"Test DataFrame Shape:\", test_df.shape)\n",
    "print(train_df.head())\n"
   ]
  },
  {
   "cell_type": "code",
   "execution_count": 6,
   "id": "1c5b1517",
   "metadata": {},
   "outputs": [
    {
     "name": "stderr",
     "output_type": "stream",
     "text": [
      "c:\\Users\\agopa\\AppData\\Local\\Programs\\Python\\Python310\\lib\\site-packages\\seaborn\\_oldcore.py:1498: FutureWarning: is_categorical_dtype is deprecated and will be removed in a future version. Use isinstance(dtype, CategoricalDtype) instead\n",
      "  if pd.api.types.is_categorical_dtype(vector):\n",
      "c:\\Users\\agopa\\AppData\\Local\\Programs\\Python\\Python310\\lib\\site-packages\\seaborn\\_oldcore.py:1119: FutureWarning: use_inf_as_na option is deprecated and will be removed in a future version. Convert inf values to NaN before operating instead.\n",
      "  with pd.option_context('mode.use_inf_as_na', True):\n"
     ]
    },
    {
     "data": {
      "image/png": "[encoded data removed]",
      "text/plain": [
       "<Figure size 432x288 with 1 Axes>"
      ]
     },
     "metadata": {
      "needs_background": "light"
     },
     "output_type": "display_data"
    }
   ],
   "source": [
    "sns.histplot(train_df['label'], bins=10, kde=True)\n",
    "plt.title('Distribution of Grammar Scores')\n",
    "plt.xlabel('Grammar Score')\n",
    "plt.ylabel('Frequency')\n",
    "plt.show()\n"
   ]
  },
  {
   "cell_type": "markdown",
   "id": "ef0d0169",
   "metadata": {},
   "source": [
    "## Feature Extraction\n",
    "\n",
    "- Extracted 13 MFCC coefficients from each audio sample.\n",
    "- Calculated the mean and standard deviation of these coefficients to create a concise feature representation.\n",
    "- Explored additional features like spectral contrast and chroma features to capture more audio details."
   ]
  },
  {
   "cell_type": "code",
   "execution_count": 7,
   "id": "bd248b6b",
   "metadata": {},
   "outputs": [],
   "source": [
    "def load_audio_file(file_path, sr=22050):\n",
    "    \"\"\"\n",
    "    Load an audio file and return the audio time series and sampling rate.\n",
    "    \"\"\"\n",
    "    audio, sr = librosa.load(file_path, sr=sr)\n",
    "    return audio, sr\n",
    "\n",
    "def extract_features(audio, sr, n_mfcc=13):\n",
    "    \"\"\"\n",
    "    Extract audio features from an audio time series.\n",
    "    Currently extracts MFCCs and returns the mean and standard deviation for each coefficient.\n",
    "    \"\"\"\n",
    "    mfccs = librosa.feature.mfcc(y=audio, sr=sr, n_mfcc=n_mfcc)\n",
    "    mfccs_mean = np.mean(mfccs, axis=1)\n",
    "    mfccs_std = np.std(mfccs, axis=1)\n",
    "    features = np.concatenate([mfccs_mean, mfccs_std])\n",
    "    return features\n"
   ]
  },
  {
   "cell_type": "code",
   "execution_count": 8,
   "id": "18612345",
   "metadata": {},
   "outputs": [
    {
     "name": "stdout",
     "output_type": "stream",
     "text": [
      "Features shape: (444, 26)\n"
     ]
    }
   ],
   "source": [
    "train_audio_path = (\"audios_train\")\n",
    "features_list = []\n",
    "labels_list = []\n",
    "for idx, row in train_df.iterrows():\n",
    "    file_name = row['filename']\n",
    "    label = row['label']\n",
    "    file_path = os.path.join(train_audio_path, file_name)\n",
    "    \n",
    "    try:\n",
    "        audio, sr = load_audio_file(file_path)\n",
    "        features = extract_features(audio, sr)\n",
    "        features_list.append(features)\n",
    "        labels_list.append(label)\n",
    "    except Exception as e:\n",
    "        print(f\"Error processing {file_name}: {e}\")\n",
    "\n",
    "X = np.array(features_list)\n",
    "y = np.array(labels_list)\n",
    "\n",
    "print(\"Features shape:\", X.shape)"
   ]
  },
  {
   "cell_type": "markdown",
   "id": "85c882f2",
   "metadata": {},
   "source": [
    "## Model Development and Evaluation\n",
    "\n",
    "- **Baseline Model:** A Linear Regression model was trained on the extracted features.\n",
    "- **Validation:** The model was evaluated using a validation split, where the Pearson correlation was computed to compare predictions against true labels.\n",
    "- **Results:**\n",
    "    - **Mean Absolute Error (MAE):** *0.8092264780837498*\n",
    "    - **Pearson Correlation:** *0.5626140063732832*\n",
    "- **Visualizations:** A scatter plot of true vs. predicted scores and a histogram of prediction errors were created to assess model performance."
   ]
  },
  {
   "cell_type": "code",
   "execution_count": 9,
   "id": "81233957",
   "metadata": {},
   "outputs": [],
   "source": [
    "X_train, X_val, y_train, y_val = train_test_split(X, y, test_size=0.2, random_state=42)\n",
    "\n",
    "\n",
    "scaler = StandardScaler()\n",
    "X_train_scaled = scaler.fit_transform(X_train)\n",
    "X_val_scaled = scaler.transform(X_val)\n"
   ]
  },
  {
   "cell_type": "code",
   "execution_count": 10,
   "id": "4e570f8c",
   "metadata": {},
   "outputs": [
    {
     "name": "stdout",
     "output_type": "stream",
     "text": [
      "Mean Absolute Error (Validation): 0.8092264780837498\n",
      "Pearson Correlation (Validation): 0.5626140063732832\n"
     ]
    }
   ],
   "source": [
    "model = LinearRegression()\n",
    "\n",
    "model.fit(X_train_scaled, y_train)\n",
    "y_pred = model.predict(X_val_scaled)\n",
    "mae = mean_absolute_error(y_val, y_pred)\n",
    "corr, _ = pearsonr(y_val, y_pred)\n",
    "\n",
    "\n",
    "print(\"Mean Absolute Error (Validation):\", mae)\n",
    "print(\"Pearson Correlation (Validation):\", corr)\n"
   ]
  },
  {
   "cell_type": "code",
   "execution_count": 11,
   "id": "c5323bbf",
   "metadata": {},
   "outputs": [
    {
     "data": {
      "image/png": "[encoded data removed]",
      "text/plain": [
       "<Figure size 576x432 with 1 Axes>"
      ]
     },
     "metadata": {
      "needs_background": "light"
     },
     "output_type": "display_data"
    }
   ],
   "source": [
    "plt.figure(figsize=(8,6))\n",
    "plt.scatter(y_val, y_pred, alpha=0.7)\n",
    "plt.xlabel(\"True Grammar Score\")\n",
    "plt.ylabel(\"Predicted Grammar Score\")\n",
    "plt.title(\"True vs. Predicted Grammar Scores\")\n",
    "plt.plot([min(y_val), max(y_val)], [min(y_val), max(y_val)], 'r--')\n",
    "plt.show()\n"
   ]
  },
  {
   "cell_type": "code",
   "execution_count": 12,
   "id": "282fbc81",
   "metadata": {},
   "outputs": [
    {
     "name": "stderr",
     "output_type": "stream",
     "text": [
      "c:\\Users\\agopa\\AppData\\Local\\Programs\\Python\\Python310\\lib\\site-packages\\seaborn\\_oldcore.py:1498: FutureWarning: is_categorical_dtype is deprecated and will be removed in a future version. Use isinstance(dtype, CategoricalDtype) instead\n",
      "  if pd.api.types.is_categorical_dtype(vector):\n",
      "c:\\Users\\agopa\\AppData\\Local\\Programs\\Python\\Python310\\lib\\site-packages\\seaborn\\_oldcore.py:1119: FutureWarning: use_inf_as_na option is deprecated and will be removed in a future version. Convert inf values to NaN before operating instead.\n",
      "  with pd.option_context('mode.use_inf_as_na', True):\n"
     ]
    },
    {
     "data": {
      "image/png": "[encoded data removed]",
      "text/plain": [
       "<Figure size 432x288 with 1 Axes>"
      ]
     },
     "metadata": {
      "needs_background": "light"
     },
     "output_type": "display_data"
    }
   ],
   "source": [
    "errors = y_val - y_pred\n",
    "sns.histplot(errors, bins=20, kde=True)\n",
    "plt.title(\"Distribution of Prediction Errors\")\n",
    "plt.xlabel(\"Error (True - Predicted)\")\n",
    "plt.ylabel(\"Frequency\")\n",
    "plt.show()\n"
   ]
  },
  {
   "cell_type": "markdown",
   "id": "814a0002",
   "metadata": {},
   "source": [
    "## Final Predictions and Submission\n",
    "\n",
    "- Extracted features from the test audio files using the same pipeline as for training data.\n",
    "- Generated predictions using the trained model.\n",
    "- Ensured predictions are within the 0 to 5 range (using `np.clip` if needed).\n",
    "- Prepared a submission CSV with columns `filename` and `label` matching the sample submission format."
   ]
  },
  {
   "cell_type": "code",
   "execution_count": 13,
   "id": "baab62eb",
   "metadata": {},
   "outputs": [],
   "source": [
    "test_audio_path = (\"audios_test\")\n",
    "test_features = []\n",
    "for idx, row in test_df.iterrows():\n",
    "    file_name = row['filename']\n",
    "    file_path = os.path.join(test_audio_path, file_name)\n",
    "    \n",
    "    try:\n",
    "        audio, sr = load_audio_file(file_path)\n",
    "        features = extract_features(audio, sr)\n",
    "        test_features.append(features)\n",
    "    except Exception as e:\n",
    "        print(f\"Error processing {file_name}: {e}\")\n",
    "\n",
    "X_test = np.array(test_features)\n",
    "X_test_scaled = scaler.transform(X_test)\n"
   ]
  },
  {
   "cell_type": "code",
   "execution_count": null,
   "id": "19ff4684",
   "metadata": {},
   "outputs": [
    {
     "name": "stdout",
     "output_type": "stream",
     "text": [
      "Submission file created at: submission.csv\n"
     ]
    }
   ],
   "source": [
    "test_predictions = model.predict(X_test_scaled)\n",
    "test_predictions = np.clip(test_predictions, 0, 5)\n",
    "submission_df = pd.DataFrame({\n",
    "    'filename': test_df['filename'],\n",
    "    'label': test_predictions\n",
    "})\n",
    "\n",
    "submission_file_path = ( \"submission.csv\")\n",
    "submission_df.to_csv(submission_file_path, index=False)\n",
    "print(\"Submission file created\")"
   ]
  },
  {
   "cell_type": "markdown",
   "id": "18892c15",
   "metadata": {},
   "source": [
    "## Conclusion and Future Work\n",
    "\n",
    "This notebook demonstrated a complete pipeline for scoring audio samples on grammar quality. While the baseline model shows promising results, further improvements can be made by:\n",
    "- Experimenting with additional audio features.\n",
    "- Trying more advanced models such as Random Forests or CNNs on spectrogram images.\n",
    "- Incorporating ensemble methods and deeper hyperparameter tuning.\n",
    "\n",
    "Future work will explore these avenues to further boost performance.\n"
   ]
  }
 ],
 "metadata": {
  "kernelspec": {
   "display_name": "Python 3",
   "language": "python",
   "name": "python3"
  },
  "language_info": {
   "codemirror_mode": {
    "name": "ipython",
    "version": 3
   },
   "file_extension": ".py",
   "mimetype": "text/x-python",
   "name": "python",
   "nbconvert_exporter": "python",
   "pygments_lexer": "ipython3",
   "version": "3.10.1"
  }
 },
 "nbformat": 4,
 "nbformat_minor": 5
}
